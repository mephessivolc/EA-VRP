{
 "cells": [
  {
   "cell_type": "markdown",
   "id": "9fccb9da-0a3d-4857-b2bb-427c181980e0",
   "metadata": {},
   "source": [
    "# Pipeline de demonstração do EA‑VRP.\n",
    "\n",
    "Gera dados sintéticos (passageiros, veículos, pontos de recarga), executa o\n",
    "agrupamento geográfico e imprime no console a composição de cada grupo.\n",
    "\n",
    "Uso\n",
    "---\n",
    "```\n",
    "$ docker compose up \n",
    "```"
   ]
  },
  {
   "cell_type": "code",
   "execution_count": 1,
   "id": "67f2bf8c-602b-4e32-8741-9f479a07112e",
   "metadata": {},
   "outputs": [],
   "source": [
    "import random\n",
    "from typing import List\n",
    "\n",
    "from geografics import generate_random_geografic_points\n",
    "from grouping import GeoGrouper, EAVRPGroup\n",
    "from utils import Passenger, Vehicle, RechargePoint\n",
    "from encoder import EA_VRP_QUBOEncoder\n",
    "from solver import QAOASolver\n",
    "from graph import build_graph\n",
    "\n",
    "from pathlib import Path"
   ]
  },
  {
   "cell_type": "markdown",
   "id": "790d0f51-fa2d-4a42-991e-29ae446e7698",
   "metadata": {},
   "source": [
    "## Helpers de geração sintética"
   ]
  },
  {
   "cell_type": "code",
   "execution_count": 2,
   "id": "57610970-8356-4e6f-abf8-369e3a57fb49",
   "metadata": {},
   "outputs": [],
   "source": [
    "def make_passengers(n: int, x_lim: List, y_lim: List) -> List[Passenger]:\n",
    "    \"\"\"Cria *n* passageiros com origem e destino aleatórios.\"\"\"\n",
    "    origin = generate_random_geografic_points(n, x_lim, y_lim)\n",
    "    dest = generate_random_geografic_points(n, x_lim, y_lim)\n",
    "    passengers: List[Passenger] = []\n",
    "    for i, (o, d) in enumerate(zip(origin,dest)):\n",
    "        passengers.append(Passenger(id=i, origin=o, destination=d))\n",
    "    return passengers"
   ]
  },
  {
   "cell_type": "code",
   "execution_count": 3,
   "id": "3420d01a-7d04-40b9-82e9-e839b6c22ae5",
   "metadata": {},
   "outputs": [],
   "source": [
    "def make_vehicles(n: int) -> List[Vehicle]:\n",
    "    \"\"\"Cria *n* veículos com parâmetros padrão.\"\"\"\n",
    "    return [Vehicle(id=i + 1) for i in range(n)]"
   ]
  },
  {
   "cell_type": "code",
   "execution_count": 4,
   "id": "9a71a869-e94d-42d1-bc48-60d08314a48a",
   "metadata": {},
   "outputs": [],
   "source": [
    "def make_recharge_points(n: int, x_lim: List, y_lim: List) -> List[RechargePoint]:\n",
    "    origin = generate_random_geografic_points(n, x_lim, y_lim)\n",
    "    recharge_points: List[RechargePoint] = []\n",
    "    for i, o in enumerate(origin):\n",
    "        recharge_points.append(RechargePoint(id=i, location=o))\n",
    "    return recharge_points"
   ]
  },
  {
   "cell_type": "code",
   "execution_count": 5,
   "id": "a47b9df6-9c5b-4310-97fc-ede6ae63e11f",
   "metadata": {},
   "outputs": [],
   "source": [
    "OUTDIR = Path(\"figs\")\n",
    "OUTDIR.mkdir(parents=True, exist_ok=True)\n",
    "\n",
    "n_passengers = 10\n",
    "n_vehicles = 8\n",
    "n_recharge_points = 5"
   ]
  },
  {
   "cell_type": "code",
   "execution_count": 6,
   "id": "8f18c1a7-2332-4925-8e79-355ee2b6f8fb",
   "metadata": {},
   "outputs": [],
   "source": [
    "p=2\n",
    "shots=1000\n",
    "steps=15\n",
    "diameter = 0.2 # 1 => 100kmprint(depot)\n",
    "shrink_epsilon = 0.9 # None"
   ]
  },
  {
   "cell_type": "code",
   "execution_count": 7,
   "id": "f0aa6682-8320-4d03-9a45-ac25607f3600",
   "metadata": {},
   "outputs": [],
   "source": [
    "seed = 42\n",
    "filename_hist = OUTDIR / \"teste_histograma.png\" # nome do arquivo do histograma\n",
    "filename_graph = OUTDIR / \"teste_grafo.png\" # nome do arquivo do grafo"
   ]
  },
  {
   "cell_type": "code",
   "execution_count": 8,
   "id": "4fdbf84a-9749-4979-8817-6297925e6b87",
   "metadata": {},
   "outputs": [
    {
     "name": "stdout",
     "output_type": "stream",
     "text": [
      "[(np.float64(-23.919478993200133), np.float64(-46.71171647949851))]\n"
     ]
    }
   ],
   "source": [
    "passengers = make_passengers(n_passengers, (-24, -23.4), (-46.8, -46.3))\n",
    "vehicles = make_vehicles(n_vehicles)\n",
    "recharge_points = make_recharge_points(n_recharge_points, (-24, -23.4), (-46.8, -46.3))\n",
    "depot = generate_random_geografic_points(1, (-24, -23.4), (-46.8, -46.3))\n",
    "print(depot)"
   ]
  },
  {
   "cell_type": "markdown",
   "id": "bcbe32be-d136-47da-b7ce-c550f667e37a",
   "metadata": {},
   "source": [
    "## Agrupamento de Passageiros"
   ]
  },
  {
   "cell_type": "code",
   "execution_count": 9,
   "id": "4c780ce8-5a69-425e-8fd6-e1700cfed828",
   "metadata": {},
   "outputs": [
    {
     "name": "stdout",
     "output_type": "stream",
     "text": [
      "Grupo 01 | 2 passageiros -> [0, 8]\n",
      "Grupo 02 | 2 passageiros -> [1, 4]\n",
      "Grupo 03 | 1 passageiros -> [2]\n",
      "Grupo 04 | 2 passageiros -> [3, 7]\n",
      "Grupo 05 | 1 passageiros -> [5]\n",
      "Grupo 06 | 1 passageiros -> [6]\n",
      "Grupo 07 | 1 passageiros -> [9]\n",
      "Total de grupos (≈ qubits na formulação): 7\n"
     ]
    }
   ],
   "source": [
    "grouper = GeoGrouper(delta=diameter)\n",
    "groups = grouper.fit(passengers)\n",
    "\n",
    "for g in groups:\n",
    "    p_ids = [passenger.id for passenger in g.passengers]\n",
    "    print(f\"Grupo {g.id:02d} | {len(p_ids)} passageiros -> {p_ids}\")\n",
    "\n",
    "total_qubits = len(groups)  # variável por grupo (modelo futuro)\n",
    "print(f\"Total de grupos (≈ qubits na formulação): {total_qubits}\")"
   ]
  },
  {
   "cell_type": "code",
   "execution_count": 10,
   "id": "655d98b6-0689-4f40-a7ed-69ef5e93e499",
   "metadata": {},
   "outputs": [],
   "source": [
    "# QUBO para somente grupos sem compressão\n",
    "encoder = EA_VRP_QUBOEncoder(vehicles, \n",
    "                             groups, \n",
    "                             recharge_points,\n",
    "                             depot=depot\n",
    "                            )\n",
    "encoder_passengers = EA_VRP_QUBOEncoder(vehicles, \n",
    "                             passengers, \n",
    "                             recharge_points, \n",
    "                             depot=depot\n",
    "                            )"
   ]
  },
  {
   "cell_type": "code",
   "execution_count": 12,
   "id": "9001f1b4-f886-4740-b9b7-2d29ecc3e56f",
   "metadata": {},
   "outputs": [
    {
     "name": "stdout",
     "output_type": "stream",
     "text": [
      "Quantidade de qubits com grupos: 96\n",
      "Quantidade de qubits sem grupos: 120\n"
     ]
    }
   ],
   "source": [
    "print(f\"Quantidade de qubits com grupos: {encoder.num_qubits}\")\n",
    "print(f\"Quantidade de qubits sem grupos: {encoder_passengers.num_qubits}\")"
   ]
  },
  {
   "cell_type": "code",
   "execution_count": null,
   "id": "ea1dbc03-a9d9-4376-9cf7-8b7265a1787d",
   "metadata": {},
   "outputs": [],
   "source": [
    "print(\"Matriz QUBO (valores arredondados a 2 casas decimais):\")\n",
    "encoder.print_matrix(precision=2)"
   ]
  },
  {
   "cell_type": "code",
   "execution_count": null,
   "id": "1ed1f1e5-9bee-47ec-a085-4aa38d8c178e",
   "metadata": {},
   "outputs": [],
   "source": [
    "print(\"Matriz QUBO Somente passageiros (valores arredondados a 2 casas decimais):\")\n",
    "encoder_passengers.print_matrix(precision=2)"
   ]
  },
  {
   "cell_type": "code",
   "execution_count": null,
   "id": "8cbdfc5f-2687-4a5f-a07a-f42ad48fe670",
   "metadata": {},
   "outputs": [],
   "source": [
    "print(f\"Offset com compressão (constante): {encoder.offset:.2f}\")"
   ]
  },
  {
   "cell_type": "code",
   "execution_count": null,
   "id": "d54b9286-267c-4917-bb12-09490a07a9c8",
   "metadata": {},
   "outputs": [],
   "source": [
    "# 3) QAOA \n",
    "solver = QAOASolver(encoder,\n",
    "                    p=p,\n",
    "                    shots=shots,\n",
    "                    steps=steps,\n",
    "                    dev=\"lightning.qubit\", # \"default.qubit\"\n",
    "                    seed=seed)\n",
    "best_bits, best_cost = solver.solve()"
   ]
  },
  {
   "cell_type": "code",
   "execution_count": null,
   "id": "91ad5622-c831-49fa-b089-b0dca7beda2e",
   "metadata": {},
   "outputs": [],
   "source": [
    "# Estado inteiro x (LSB = qubit 0)\n",
    "x_val = int(\"\".join(map(str, best_bits[::-1])), 2)\n",
    "print(f\"Melhor estado: |{x_val}⟩  ==> custo {best_cost:.2f}\\n\")"
   ]
  },
  {
   "cell_type": "code",
   "execution_count": null,
   "id": "c0e3b7c0-874e-4249-907e-dfaa904bab32",
   "metadata": {},
   "outputs": [],
   "source": [
    "# 4) Histograma\n",
    "solver.plot_histogram(filename_hist)\n",
    "print(f\"Histograma salvo em: {filename_hist}\")"
   ]
  },
  {
   "cell_type": "code",
   "execution_count": null,
   "id": "cd636e3c-c040-4786-bde2-fc3506a13bba",
   "metadata": {},
   "outputs": [],
   "source": [
    "build_graph(passengers, groups, recharge_points, filename_graph)\n",
    "print(f\"Grafo salvo em: {filename_graph}\")"
   ]
  }
 ],
 "metadata": {
  "kernelspec": {
   "display_name": "Python 3 (ipykernel)",
   "language": "python",
   "name": "python3"
  },
  "language_info": {
   "codemirror_mode": {
    "name": "ipython",
    "version": 3
   },
   "file_extension": ".py",
   "mimetype": "text/x-python",
   "name": "python",
   "nbconvert_exporter": "python",
   "pygments_lexer": "ipython3",
   "version": "3.11.6"
  }
 },
 "nbformat": 4,
 "nbformat_minor": 5
}
